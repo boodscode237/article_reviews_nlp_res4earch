{
  "nbformat": 4,
  "nbformat_minor": 0,
  "metadata": {
    "colab": {
      "provenance": []
    },
    "kernelspec": {
      "name": "python3",
      "display_name": "Python 3"
    },
    "language_info": {
      "name": "python"
    }
  },
  "cells": [
    {
      "cell_type": "code",
      "execution_count": null,
      "metadata": {
        "colab": {
          "base_uri": "https://localhost:8080/"
        },
        "id": "YbVmkK5mJr3B",
        "outputId": "76e10c8a-98ad-4758-9d37-b7c6a590ea98"
      },
      "outputs": [
        {
          "output_type": "stream",
          "name": "stdout",
          "text": [
            "Extracted Toponyms: []\n"
          ]
        }
      ],
      "source": [
        "import re\n",
        "import sqlite3\n",
        "\n",
        "gazetteer = {\n",
        "    'Lancaster, Pennsylvania': {'latitude': 40.0379, 'longitude': -76.3055},\n",
        "    'Lancaster, England': {'latitude': 54.0500, 'longitude': -2.8000},\n",
        "    'Philadelphia, Pennsylvania': {'latitude': 39.9526, 'longitude': -75.1652},\n",
        "    'Harrisburg, Pennsylvania': {'latitude': 40.2737, 'longitude': -76.8844}\n",
        "}\n",
        "\n",
        "def extract_toponyms(text):\n",
        "    toponyms = re.findall(r'\\b[A-Z][a-z]*\\s[A-Z][a-z]*\\b', text)\n",
        "    return toponyms\n",
        "\n",
        "def resolve_toponym(toponym):\n",
        "    if toponym in gazetteer:\n",
        "        return gazetteer[toponym]\n",
        "    return None\n",
        "\n",
        "conn = sqlite3.connect('historical_geodata.db')\n",
        "cursor = conn.cursor()\n",
        "\n",
        "cursor.execute('''CREATE TABLE IF NOT EXISTS Locations\n",
        "                  (Toponym TEXT, Latitude REAL, Longitude REAL, Context TEXT)''')\n",
        "\n",
        "def store_location(toponym, latitude, longitude, context):\n",
        "    cursor.execute('INSERT INTO Locations (Toponym, Latitude, Longitude, Context) VALUES (?, ?, ?, ?)',\n",
        "                   (toponym, latitude, longitude, context))\n",
        "    conn.commit()\n",
        "\n",
        "text = \"The city of Lancaster is located in Pennsylvania, near Harrisburg and Philadelphia.\"\n",
        "\n",
        "toponyms = extract_toponyms(text)\n",
        "print(\"Extracted Toponyms:\", toponyms)\n",
        "\n",
        "for toponym in toponyms:\n",
        "    print(f\"Resolving toponym: {toponym}\")\n",
        "\n",
        "    resolved_location = resolve_toponym(toponym)\n",
        "\n",
        "    if resolved_location:\n",
        "        latitude = resolved_location['latitude']\n",
        "        longitude = resolved_location['longitude']\n",
        "        print(f\"Resolved Location: Latitude = {latitude}, Longitude = {longitude}\")\n",
        "\n",
        "        store_location(toponym, latitude, longitude, text)\n",
        "    else:\n",
        "        print(f\"Toponym: {toponym} could not be resolved.\")\n",
        "\n",
        "cursor.execute('SELECT * FROM Locations')\n",
        "rows = cursor.fetchall()\n",
        "for row in rows:\n",
        "    print(row)\n",
        "\n",
        "conn.close()"
      ]
    },
    {
      "cell_type": "code",
      "source": [],
      "metadata": {
        "id": "F9bEYYA5LbIQ"
      },
      "execution_count": null,
      "outputs": []
    }
  ]
}